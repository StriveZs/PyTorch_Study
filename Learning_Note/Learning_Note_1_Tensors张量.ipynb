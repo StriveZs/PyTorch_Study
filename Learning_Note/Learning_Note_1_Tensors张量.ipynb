{
 "cells": [
  {
   "cell_type": "markdown",
   "id": "b44da8d4",
   "metadata": {},
   "source": [
    "# 什么是PyTorch？  \n",
    "## 张量(Tensors)\n",
    "Tensors类似于numpy中的ndarrays，同时Tensors可以使用GPU计算。"
   ]
  },
  {
   "cell_type": "code",
   "execution_count": 1,
   "id": "b7726be5",
   "metadata": {},
   "outputs": [],
   "source": [
    "import torch # 调用pytorch"
   ]
  },
  {
   "cell_type": "markdown",
   "id": "ff43c062",
   "metadata": {},
   "source": [
    "构造一个5×3的矩阵，不初始化。"
   ]
  },
  {
   "cell_type": "code",
   "execution_count": 2,
   "id": "19884d90",
   "metadata": {},
   "outputs": [
    {
     "name": "stdout",
     "output_type": "stream",
     "text": [
      "tensor([[1.2120e+25, 1.3556e-19, 1.8567e-01],\n",
      "        [1.9492e-19, 7.5553e+28, 5.2839e-11],\n",
      "        [1.7589e+22, 2.5038e-12, 1.1362e+30],\n",
      "        [7.1547e+22, 4.5828e+30, 3.2537e+12],\n",
      "        [3.2608e-12, 1.1632e+33, 5.6003e-02]])\n"
     ]
    }
   ],
   "source": [
    "x = torch.empty(5,3) # shap=(5,3)\n",
    "print(x)"
   ]
  },
  {
   "cell_type": "markdown",
   "id": "0f8d3064",
   "metadata": {},
   "source": [
    "构造一个随机初始化的矩阵"
   ]
  },
  {
   "cell_type": "code",
   "execution_count": 3,
   "id": "81dc7f5f",
   "metadata": {},
   "outputs": [
    {
     "name": "stdout",
     "output_type": "stream",
     "text": [
      "tensor([[0.3769, 0.3446, 0.5225],\n",
      "        [0.8381, 0.8051, 0.7474],\n",
      "        [0.9907, 0.8126, 0.3824],\n",
      "        [0.9402, 0.2669, 0.4212],\n",
      "        [0.6137, 0.8645, 0.4996]])\n"
     ]
    }
   ],
   "source": [
    "x = torch.rand(5,3) # 随机初始化，大小为5×3\n",
    "print(x)"
   ]
  },
  {
   "cell_type": "markdown",
   "id": "961ca420",
   "metadata": {},
   "source": [
    "构造一个矩阵全为0，而且数据类是long"
   ]
  },
  {
   "cell_type": "code",
   "execution_count": 4,
   "id": "d3b41bfa",
   "metadata": {},
   "outputs": [
    {
     "name": "stdout",
     "output_type": "stream",
     "text": [
      "tensor([[0, 0, 0],\n",
      "        [0, 0, 0],\n",
      "        [0, 0, 0],\n",
      "        [0, 0, 0],\n",
      "        [0, 0, 0]])\n"
     ]
    }
   ],
   "source": [
    "x = torch.zeros(5,3,dtype=torch.long)\n",
    "print(x)"
   ]
  },
  {
   "cell_type": "markdown",
   "id": "51bc2a63",
   "metadata": {},
   "source": [
    "直接使用数据来创建一个tensor"
   ]
  },
  {
   "cell_type": "code",
   "execution_count": 5,
   "id": "4ba4c37f",
   "metadata": {},
   "outputs": [
    {
     "name": "stdout",
     "output_type": "stream",
     "text": [
      "tensor([5, 5, 3])\n"
     ]
    }
   ],
   "source": [
    "x = torch.tensor([5,5,3])\n",
    "print(x)"
   ]
  },
  {
   "cell_type": "markdown",
   "id": "031b5131",
   "metadata": {},
   "source": [
    "创建一个tensor基于已经存在tensor"
   ]
  },
  {
   "cell_type": "code",
   "execution_count": 6,
   "id": "5c3dad58",
   "metadata": {},
   "outputs": [
    {
     "name": "stdout",
     "output_type": "stream",
     "text": [
      "tensor([[1., 1., 1.],\n",
      "        [1., 1., 1.],\n",
      "        [1., 1., 1.],\n",
      "        [1., 1., 1.],\n",
      "        [1., 1., 1.]], dtype=torch.float64)\n",
      "tensor([[0., 0., 0., 0., 0., 0.],\n",
      "        [0., 0., 0., 0., 0., 0.],\n",
      "        [0., 0., 0., 0., 0., 0.],\n",
      "        [0., 0., 0., 0., 0., 0.],\n",
      "        [0., 0., 0., 0., 0., 0.]], dtype=torch.float64)\n"
     ]
    }
   ],
   "source": [
    "x = x.new_ones(5,3,dtype=torch.double)\n",
    "print(x)\n",
    "y = x.new_zeros(5,6,dtype=torch.double)\n",
    "print(y)"
   ]
  },
  {
   "cell_type": "markdown",
   "id": "c3704602-3049-4bd3-8203-7c84c6eb8f89",
   "metadata": {},
   "source": [
    "获取它的维度信息:"
   ]
  },
  {
   "cell_type": "code",
   "execution_count": 7,
   "id": "68f8709c-e455-4cc0-8def-45704a3e7983",
   "metadata": {},
   "outputs": [
    {
     "name": "stdout",
     "output_type": "stream",
     "text": [
      "torch.Size([5, 3])\n",
      "torch.Size([5, 6])\n"
     ]
    }
   ],
   "source": [
    "print(x.size())\n",
    "print(y.size())"
   ]
  },
  {
   "cell_type": "markdown",
   "id": "425a3d0e-7e54-44b8-a87b-00769e4bc793",
   "metadata": {},
   "source": [
    "需要注意的是torch.size是一个元组，所以它支持左右的元组操作。\n",
    "### 加法运算\n",
    "第一种方式:"
   ]
  },
  {
   "cell_type": "code",
   "execution_count": 8,
   "id": "b0bb30d0-abef-4a5c-9d77-b433541f8ad8",
   "metadata": {},
   "outputs": [
    {
     "name": "stdout",
     "output_type": "stream",
     "text": [
      "tensor([[0.7041, 0.0379, 0.8153],\n",
      "        [0.9673, 0.8777, 0.5551],\n",
      "        [0.0911, 0.9323, 0.3121],\n",
      "        [0.4540, 0.4334, 0.8223],\n",
      "        [0.8973, 0.3472, 0.6402]])\n",
      "tensor([[1.7041, 1.0379, 1.8153],\n",
      "        [1.9673, 1.8777, 1.5551],\n",
      "        [1.0911, 1.9323, 1.3121],\n",
      "        [1.4540, 1.4334, 1.8223],\n",
      "        [1.8973, 1.3472, 1.6402]], dtype=torch.float64)\n"
     ]
    }
   ],
   "source": [
    "y = torch.rand(5,3)\n",
    "print(y)\n",
    "print(x+y)"
   ]
  },
  {
   "cell_type": "markdown",
   "id": "0307661a-9a42-452a-b932-a4577b4653b0",
   "metadata": {},
   "source": [
    "第二种方式:"
   ]
  },
  {
   "cell_type": "code",
   "execution_count": 10,
   "id": "885c7f63-471d-440e-bb59-b1ce3ffe3659",
   "metadata": {},
   "outputs": [
    {
     "name": "stdout",
     "output_type": "stream",
     "text": [
      "tensor([[1.7041, 1.0379, 1.8153],\n",
      "        [1.9673, 1.8777, 1.5551],\n",
      "        [1.0911, 1.9323, 1.3121],\n",
      "        [1.4540, 1.4334, 1.8223],\n",
      "        [1.8973, 1.3472, 1.6402]], dtype=torch.float64)\n"
     ]
    }
   ],
   "source": [
    "print(torch.add(x,y))"
   ]
  },
  {
   "cell_type": "markdown",
   "id": "1206b1e5-bfed-4e55-8a06-13ac944c6bef",
   "metadata": {},
   "source": [
    "提供一个输出tensor作为参数:"
   ]
  },
  {
   "cell_type": "code",
   "execution_count": 12,
   "id": "12cadb92-f115-4e5d-a8f7-0d50865bed6e",
   "metadata": {},
   "outputs": [
    {
     "name": "stdout",
     "output_type": "stream",
     "text": [
      "tensor([[1.7041, 1.0379, 1.8153],\n",
      "        [1.9673, 1.8777, 1.5551],\n",
      "        [1.0911, 1.9323, 1.3121],\n",
      "        [1.4540, 1.4334, 1.8223],\n",
      "        [1.8973, 1.3472, 1.6402]])\n"
     ]
    }
   ],
   "source": [
    "result = torch.empty(5,3)\n",
    "torch.add(x,y,out=result) # 等价于 result = torch.add(x+y)\n",
    "print(result)"
   ]
  },
  {
   "cell_type": "markdown",
   "id": "476e958b-ef90-4850-bfd6-7a4838785559",
   "metadata": {},
   "source": [
    "第三种方式:使用in-place"
   ]
  },
  {
   "cell_type": "code",
   "execution_count": 13,
   "id": "e6ee9dbe-70bf-4ee4-9b05-7cba56862e5e",
   "metadata": {},
   "outputs": [
    {
     "name": "stdout",
     "output_type": "stream",
     "text": [
      "tensor([[1.7041, 1.0379, 1.8153],\n",
      "        [1.9673, 1.8777, 1.5551],\n",
      "        [1.0911, 1.9323, 1.3121],\n",
      "        [1.4540, 1.4334, 1.8223],\n",
      "        [1.8973, 1.3472, 1.6402]])\n"
     ]
    }
   ],
   "source": [
    "y.add_(x)\n",
    "print(y)"
   ]
  },
  {
   "cell_type": "markdown",
   "id": "d5daa45f-e628-4c9b-bfb9-1418cbf5a581",
   "metadata": {},
   "source": [
    "需要注意的是这样会使得到y发生改变。\n",
    "### 切片索引\n",
    "你也可以使用类似于numpy的索引操作"
   ]
  },
  {
   "cell_type": "code",
   "execution_count": 14,
   "id": "4fa20d5b-e01b-418f-961d-45d2c75bd557",
   "metadata": {},
   "outputs": [
    {
     "name": "stdout",
     "output_type": "stream",
     "text": [
      "tensor([[1.],\n",
      "        [1.],\n",
      "        [1.],\n",
      "        [1.],\n",
      "        [1.]], dtype=torch.float64)\n"
     ]
    }
   ],
   "source": [
    "print(x[:,:1])"
   ]
  },
  {
   "cell_type": "markdown",
   "id": "859f2a0f-ca2e-47d4-a52f-21b39487aed2",
   "metadata": {},
   "source": [
    "### 改变大小\n",
    "如果你想改变一个tensor的大小，可以使用torch.view()"
   ]
  },
  {
   "cell_type": "code",
   "execution_count": 15,
   "id": "5c307ad1-898e-4107-aa3f-028641457d3c",
   "metadata": {},
   "outputs": [
    {
     "name": "stdout",
     "output_type": "stream",
     "text": [
      "tensor([[-2.0162,  0.4423, -0.3467, -0.0440],\n",
      "        [ 0.2886,  0.0516, -0.9108, -0.0136],\n",
      "        [ 1.8925, -0.8485,  0.3412,  0.3256],\n",
      "        [-0.5905,  1.9149, -1.0524,  0.6172]]) tensor([-2.0162,  0.4423, -0.3467, -0.0440,  0.2886,  0.0516, -0.9108, -0.0136,\n",
      "         1.8925, -0.8485,  0.3412,  0.3256, -0.5905,  1.9149, -1.0524,  0.6172]) tensor([[-2.0162,  0.4423, -0.3467, -0.0440,  0.2886,  0.0516, -0.9108, -0.0136],\n",
      "        [ 1.8925, -0.8485,  0.3412,  0.3256, -0.5905,  1.9149, -1.0524,  0.6172]])\n"
     ]
    }
   ],
   "source": [
    "x = torch.randn(4,4)\n",
    "y = x.view(16) # 拉成一个一维数组了\n",
    "z = x.view(-1,8) # 2×8\n",
    "print(x,y,z)"
   ]
  },
  {
   "cell_type": "markdown",
   "id": "30505a61-746a-4663-9ceb-4eb8f86fc75b",
   "metadata": {},
   "source": [
    "# 获取tensor的值"
   ]
  },
  {
   "cell_type": "code",
   "execution_count": 19,
   "id": "876820fb-d810-4ed8-9001-5233fa9490fd",
   "metadata": {},
   "outputs": [
    {
     "name": "stdout",
     "output_type": "stream",
     "text": [
      "tensor([[ 0.1411,  0.6976, -0.1832],\n",
      "        [-2.5372,  0.6078, -1.4216]])\n",
      "-1.4216125011444092\n"
     ]
    }
   ],
   "source": [
    "x = torch.randn(2,3)\n",
    "print(x)\n",
    "print(x[1][2].item())"
   ]
  }
 ],
 "metadata": {
  "kernelspec": {
   "display_name": "Python 3",
   "language": "python",
   "name": "python3"
  },
  "language_info": {
   "codemirror_mode": {
    "name": "ipython",
    "version": 3
   },
   "file_extension": ".py",
   "mimetype": "text/x-python",
   "name": "python",
   "nbconvert_exporter": "python",
   "pygments_lexer": "ipython3",
   "version": "3.6.5"
  }
 },
 "nbformat": 4,
 "nbformat_minor": 5
}
